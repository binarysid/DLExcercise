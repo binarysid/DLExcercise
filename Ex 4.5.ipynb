{
 "cells": [
  {
   "cell_type": "code",
   "execution_count": 74,
   "metadata": {},
   "outputs": [],
   "source": [
    "import torch"
   ]
  },
  {
   "cell_type": "code",
   "execution_count": 138,
   "metadata": {},
   "outputs": [
    {
     "name": "stdout",
     "output_type": "stream",
     "text": [
      "tensor([1., 2., 3.])\n",
      "tensor([1., 4., 9.])\n"
     ]
    }
   ],
   "source": [
    "x = torch.tensor([1.0,2.0,3.0], requires_grad = True)\n",
    "w1 = torch.tensor([1.3,1.5,1.9], requires_grad=True)\n",
    "w2 = torch.tensor([0.3,0.5,0.9], requires_grad=True)\n",
    "b = 1.0\n",
    "y = ((x*x*w2) + (x*w1) + b)\n",
    "v = torch.ones(3)\n",
    "y.backward(v)\n",
    "print(w1.grad) # gradient = x\n",
    "print(w2.grad) # gradient = x^2"
   ]
  },
  {
   "cell_type": "code",
   "execution_count": null,
   "metadata": {},
   "outputs": [],
   "source": []
  }
 ],
 "metadata": {
  "kernelspec": {
   "display_name": "Python 3",
   "language": "python",
   "name": "python3"
  },
  "language_info": {
   "codemirror_mode": {
    "name": "ipython",
    "version": 3
   },
   "file_extension": ".py",
   "mimetype": "text/x-python",
   "name": "python",
   "nbconvert_exporter": "python",
   "pygments_lexer": "ipython3",
   "version": "3.8.3"
  }
 },
 "nbformat": 4,
 "nbformat_minor": 4
}
