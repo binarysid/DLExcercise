{
 "cells": [
  {
   "cell_type": "code",
   "execution_count": 194,
   "metadata": {},
   "outputs": [],
   "source": [
    "import torch\n",
    "import torch.nn as nn\n",
    "import math"
   ]
  },
  {
   "cell_type": "code",
   "execution_count": 253,
   "metadata": {},
   "outputs": [],
   "source": [
    "class LinearLayer(nn.Module):\n",
    "    def __init__(self, bias=True):\n",
    "        super().__init__()\n",
    "        self.layers = []\n",
    "        self.fc1 = self.linear(2,1,bias)\n",
    "        #self.fc2 = self.linear(4,1,bias)\n",
    "        \n",
    "    def linear(self,inputs,outputs,bias):\n",
    "        self.weight = torch.nn.Parameter(torch.randn(outputs, inputs))\n",
    "        #self.register_parameter('weight', self.weight)\n",
    "        #print(self.weight)\n",
    "        if bias:\n",
    "            self.bias = torch.nn.Parameter(torch.randn(outputs))\n",
    "            #self.register_parameter('bias', self.bias)\n",
    "        else:\n",
    "            self.register_parameter('bias', None)\n",
    "        #self.layers.append({'w':self.weight,'b':self.bias})\n",
    "        #print(self.layers)\n",
    "        return lambda x : torch.add(torch.mm(x, self.weight.t()), self.bias)\n",
    "    \n",
    "    def forward(self, x):\n",
    "        #print('x before: ',x)\n",
    "        x = self.fc1(x)\n",
    "        #x = torch.relu(x)\n",
    "        #print('x after relu: ',x)\n",
    "        #x = self.fc2(x)\n",
    "        x = torch.sigmoid(x)\n",
    "        #print('x after sigmoid fc2: ',x)\n",
    "        return x"
   ]
  },
  {
   "cell_type": "code",
   "execution_count": 254,
   "metadata": {},
   "outputs": [],
   "source": [
    "net = LinearLayer(bias=True)"
   ]
  },
  {
   "cell_type": "code",
   "execution_count": 255,
   "metadata": {},
   "outputs": [
    {
     "name": "stdout",
     "output_type": "stream",
     "text": [
      "0 tensor([[-0.2343, -0.9152]])\n",
      "1 tensor([0.8466])\n"
     ]
    }
   ],
   "source": [
    "x = torch.randn(5,2,requires_grad=True)\n",
    "y = torch.randn(5,1)\n",
    "xTest = torch.randn(5,2,requires_grad = True).float()\n",
    "learning_rate = 0.01\n",
    "criterion = nn.MSELoss()\n",
    "optimizer = torch.optim.Adam(net.parameters(), lr=learning_rate)\n",
    "#print(net.parameters())\n",
    "# for name, param in enumerate(net.parameters()):\n",
    "#     if param.requires_grad:\n",
    "#         print(name, param.data)\n",
    "for epoch in range(5000):\n",
    "    y_pred = net(x)\n",
    "    #print(y_pred)\n",
    "    loss = criterion(y_pred,y)\n",
    "    optimizer.zero_grad()\n",
    "    loss.backward()\n",
    "    optimizer.step()\n",
    "    #print('loss: ', x.grad)\n"
   ]
  },
  {
   "cell_type": "code",
   "execution_count": 256,
   "metadata": {},
   "outputs": [
    {
     "name": "stdout",
     "output_type": "stream",
     "text": [
      "tensor([[1.5194e-12],\n",
      "        [3.9518e-12],\n",
      "        [1.4476e-18],\n",
      "        [9.7641e-01],\n",
      "        [4.5149e-32]])\n"
     ]
    }
   ],
   "source": [
    "#testSet = torch.tensor(xTest,requires_grad = True).float()\n",
    "with torch.no_grad():\n",
    "    result = net(xTest)\n",
    "print(result)"
   ]
  },
  {
   "cell_type": "code",
   "execution_count": null,
   "metadata": {},
   "outputs": [],
   "source": []
  }
 ],
 "metadata": {
  "kernelspec": {
   "display_name": "Python 3",
   "language": "python",
   "name": "python3"
  },
  "language_info": {
   "codemirror_mode": {
    "name": "ipython",
    "version": 3
   },
   "file_extension": ".py",
   "mimetype": "text/x-python",
   "name": "python",
   "nbconvert_exporter": "python",
   "pygments_lexer": "ipython3",
   "version": "3.8.3"
  }
 },
 "nbformat": 4,
 "nbformat_minor": 4
}
