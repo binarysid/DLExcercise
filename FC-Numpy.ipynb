{
 "cells": [
  {
   "cell_type": "code",
   "execution_count": 277,
   "metadata": {},
   "outputs": [],
   "source": [
    "import numpy as np"
   ]
  },
  {
   "cell_type": "code",
   "execution_count": 338,
   "metadata": {},
   "outputs": [],
   "source": [
    "class Linear:\n",
    "    def __init__(self):\n",
    "        self.nn = []\n",
    "        self.hiddenLayers = []\n",
    "        self.outputLayers = []\n",
    "        self.fcLayers = 0\n",
    "    def addLayers(self,inputs,outputs):\n",
    "        if self.nn:\n",
    "            lastLayer = self.nn[-1]\n",
    "            if lastLayer and lastLayer['output_neurons'] != inputs:\n",
    "                raise Exception(\"number of input neurons should be equal to previous layer output neuron\")\n",
    "        param = self.getParams(inputs,outputs)\n",
    "        self.fcLayers += 1\n",
    "        layer = {'input_neurons':inputs,'output_neurons':outputs,'hidden_layer':param}\n",
    "        self.nn.append(layer)\n",
    "    \n",
    "    def getParams(self,inputs,outputs):\n",
    "        np.random.seed(100)\n",
    "        params = {}\n",
    "        for i in range(outputs):\n",
    "            param = {} \n",
    "            for j in range(inputs):\n",
    "                param['w' + str(i+1)] = np.random.randn(\n",
    "                inputs, 1) * 0.1\n",
    "                #param['x' + str(i+1)] = np.zeros((inputs,))\n",
    "            params['n' + str(i+1)] = param\n",
    "            #params['b' + str(index)] = np.random.randn(\n",
    "            #outputs, 1) * 0.1\n",
    "        return params\n",
    "    \n",
    "    def sigmoid(self,x):\n",
    "        return np.exp(x)/(1+np.exp(x))\n",
    "    \n",
    "    def relu(x):\n",
    "        x[x<0] = 0\n",
    "        return x\n",
    "    \n",
    "    def activation(self,x,weight,activationMethod):\n",
    "       # print('weight: ',weight)\n",
    "        #print('inputs: ',x)\n",
    "        if activationMethod == 'sigmoid':\n",
    "            return self.sigmoid(np.dot(x,weight)).item()\n",
    "        else:\n",
    "            return self.relu(np.dot(weight,x))\n",
    "        \n",
    "    def forward(self,x,layerIndex):\n",
    "        outputNeurons = []\n",
    "        outputLayer = self.nn[layerIndex]\n",
    "        inputLayer = self.nn[layerIndex-1]\n",
    "        totalOutputNeurons = outputLayer['output_neurons']\n",
    "        hiddenLayers = outputLayer['hidden_layer']\n",
    "#         if layerIndex > 0:\n",
    "#             print('input layer neurons: ',inputLayer['hidden_layer']['activations'])\n",
    "        for i in range(totalOutputNeurons):\n",
    "            activationVal = 0.0\n",
    "            neurons = x if layerIndex == 0 else inputLayer['hidden_layer']['activations']\n",
    "            weights = hiddenLayers['n'+str(i+1)]['w'+str(i+1)]\n",
    "            activationVal = self.activation(neurons,weights,'sigmoid')\n",
    "            outputNeurons.append(activationVal)\n",
    "        self.nn[layerIndex]['hidden_layer']['activations'] = np.array(outputNeurons)\n",
    "        #print('network: ',self.nn)\n",
    "        \n",
    "    def forwardPropagate(self,x):\n",
    "        for index,fcLayer in enumerate(self.nn):\n",
    "            self.forward(x,index)\n",
    "        output_neuron = self.nn[-1] \n",
    "        return output_neuron['hidden_layer']['activations']\n",
    "    \n",
    "    def MSE(self,yPred,y):\n",
    "        #print('prediction ',y_pred)\n",
    "        #print('actual ',y)\n",
    "        return 0.5*(y-yPred)**2\n",
    "        #print(self.nn)\n",
    "    def gradient(self,x,y,yPred,index):\n",
    "        \n",
    "        lossDerivativeYpred = yPred-y #upstream gradient dL/dyPred\n",
    "        sigmoidDerivative = yPred * (1-yPred) #local gradient dyPred/dZ\n",
    "        lossGradient = lossDerivativeYpred * sigmoidDerivative # dL/dZ. now this is the upstream gradient for next step\n",
    "        inputNeurons = self.nn[index-1]['hidden_layer']\n",
    "        currNeurons = self.nn[index]['hidden_layer']\n",
    "        totalOutputNeurons = self.nn[index]['output_neurons']\n",
    "        totalInputNeurons = self.nn[index]['input_neurons']\n",
    "        neurons = inputNeurons['activations'] if index >0 else x # activation value of previous layer is the input x for the current layer\n",
    "        for i in range(totalOutputNeurons):\n",
    "            weights = currNeurons['n'+str(i+1)]['w'+str(i+1)]\n",
    "            gradients = []\n",
    "            for j in range(totalInputNeurons):\n",
    "                gradient = neurons[j] * lossGradient\n",
    "                gradients.append(gradient.item())\n",
    "            self.nn[index]['hidden_layer']['n'+str(i+1)]['gradients'] = gradients\n",
    "        return gradients\n",
    "    def backward(self,x,y,yPred):\n",
    "        for i in reversed(range(len(self.nn))):\n",
    "            self.gradient(x,y,yPred,i)"
   ]
  },
  {
   "cell_type": "code",
   "execution_count": 339,
   "metadata": {},
   "outputs": [],
   "source": [
    "net = Linear()\n",
    "net.addLayers(2,4)\n",
    "net.addLayers(4,1)"
   ]
  },
  {
   "cell_type": "code",
   "execution_count": null,
   "metadata": {
    "scrolled": true
   },
   "outputs": [],
   "source": []
  },
  {
   "cell_type": "code",
   "execution_count": 340,
   "metadata": {},
   "outputs": [
    {
     "name": "stdout",
     "output_type": "stream",
     "text": [
      "[{'input_neurons': 2, 'output_neurons': 4, 'hidden_layer': {'n1': {'w1': array([[ 0.11530358],\n",
      "       [-0.0252436 ]]), 'gradients': [-22.48902346501874, -5.622255866254685]}, 'n2': {'w2': array([[ 0.02211797],\n",
      "       [-0.10700433]]), 'gradients': [-22.48902346501874, -5.622255866254685]}, 'n3': {'w3': array([[-0.0458027 ],\n",
      "       [ 0.04351635]]), 'gradients': [-22.48902346501874, -5.622255866254685]}, 'n4': {'w4': array([[ 0.06727208],\n",
      "       [-0.01044111]]), 'gradients': [-22.48902346501874, -5.622255866254685]}, 'activations': array([0.78716357, 0.48610423, 0.39673612, 0.68480478])}}, {'input_neurons': 4, 'output_neurons': 1, 'hidden_layer': {'n1': {'w1': array([[-0.05835951],\n",
      "       [ 0.08168471],\n",
      "       [ 0.06727208],\n",
      "       [-0.01044111]]), 'gradients': [-1.4752116732305849, -0.9110007865984189, -0.7435173270083764, -1.283382568632037]}, 'activations': array([0.50332694])}}]\n"
     ]
    }
   ],
   "source": [
    "data = np.array([[1.5, 2],[2.4,3.5],[4,3],[12,3]])\n",
    "yData = np.array([[2],[4],[5],[8]])\n",
    "xData = np.array([1.5, 2])\n",
    "\n",
    "for index,x in enumerate(data):\n",
    "    yPred = net.forwardPropagate(x)\n",
    "    y = yData[index]\n",
    "    loss = net.MSE(yPred,y)\n",
    "    net.backward(x,y,yPred)\n",
    "    #print('loss',loss)\n",
    "\n",
    "    #print('loss ',loss)\n",
    "print(net.nn)"
   ]
  },
  {
   "cell_type": "code",
   "execution_count": null,
   "metadata": {},
   "outputs": [],
   "source": []
  },
  {
   "cell_type": "code",
   "execution_count": null,
   "metadata": {},
   "outputs": [],
   "source": []
  }
 ],
 "metadata": {
  "kernelspec": {
   "display_name": "Python 3",
   "language": "python",
   "name": "python3"
  },
  "language_info": {
   "codemirror_mode": {
    "name": "ipython",
    "version": 3
   },
   "file_extension": ".py",
   "mimetype": "text/x-python",
   "name": "python",
   "nbconvert_exporter": "python",
   "pygments_lexer": "ipython3",
   "version": "3.8.3"
  }
 },
 "nbformat": 4,
 "nbformat_minor": 4
}
