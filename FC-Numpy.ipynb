{
 "cells": [
  {
   "cell_type": "code",
   "execution_count": 148,
   "metadata": {},
   "outputs": [],
   "source": [
    "import numpy as np"
   ]
  },
  {
   "cell_type": "code",
   "execution_count": 157,
   "metadata": {},
   "outputs": [],
   "source": [
    "class Linear:\n",
    "    def __init__(self):\n",
    "        self.nn = []\n",
    "        self.hiddenLayers = []\n",
    "        self.outputLayers = []\n",
    "        self.fcLayers = 0\n",
    "    def addLayers(self,inputs,outputs):\n",
    "        if self.nn:\n",
    "            lastLayer = self.nn[-1]\n",
    "            if lastLayer and lastLayer['output_neurons'] != inputs:\n",
    "                raise Exception(\"number of input neurons should be equal to previous layer output neuron\")\n",
    "        param = self.getParams(inputs,outputs)\n",
    "        self.fcLayers += 1\n",
    "        layer = {'input_neurons':inputs,'output_neurons':outputs,'hidden_layer':param}\n",
    "        self.nn.append(layer)\n",
    "    def getParams(self,inputs,outputs):\n",
    "        np.random.seed(100)\n",
    "        params = {}\n",
    "        for i in range(outputs):\n",
    "            params['w' + str(i+1)] = np.random.randn(\n",
    "            1, inputs) * 0.1\n",
    "            #params['b' + str(index)] = np.random.randn(\n",
    "            #outputs, 1) * 0.1\n",
    "        return params\n",
    "    \n",
    "    def sigmoid(self,x):\n",
    "        return np.exp(x)/(1+np.exp(x))\n",
    "    \n",
    "    def relu(x):\n",
    "        x[x<0] = 0\n",
    "        return x\n",
    "    \n",
    "    def activation(self,x,weight,activationMethod):\n",
    "        #print('weight: ',weight)\n",
    "        #print('inputs: ',x)\n",
    "        if activationMethod == 'sigmoid':\n",
    "            return self.sigmoid(np.dot(weight,x))\n",
    "        else:\n",
    "            return self.relu(np.dot(weight,x))\n",
    "        \n",
    "    def forward(self,x,layerIndex):\n",
    "        outputNeurons = []\n",
    "        outputLayer = self.nn[layerIndex]\n",
    "        inputLayer = self.nn[layerIndex-1]\n",
    "        totalOutputNeurons = outputLayer['output_neurons']\n",
    "        hiddenLayers = outputLayer['hidden_layer']\n",
    "        neurons = x if layerIndex == 0 else inputLayer['hidden_layer']['neurons'] \n",
    "        #if layerIndex > 0:\n",
    "            #print('input layer neurons: ',inputLayer['hidden_layer']['neurons'])\n",
    "        for i in range(totalOutputNeurons):\n",
    "            activationVal = 0.0\n",
    "            weights = hiddenLayers['w'+str(i+1)]\n",
    "            activationVal = self.activation(neurons,weights,'sigmoid')\n",
    "            outputNeurons.append(activationVal)\n",
    "            #print('output Neurons:',outputNeurons)\n",
    "        self.nn[layerIndex]['hidden_layer']['neurons'] = outputNeurons\n",
    "    def forwardPropagate(self,x):\n",
    "        for index,fcLayer in enumerate(self.nn):\n",
    "            self.forward(x,index)\n",
    "        output_neuron = self.nn[-1] \n",
    "        return output_neuron['hidden_layer']['neurons']\n",
    "    \n",
    "    def MSE(self,y_pred,y):\n",
    "        print('prediction ',y_pred)\n",
    "        print('actual ',y)\n",
    "        return 0.5*(y-y_pred)**2\n",
    "        #print(self.nn)"
   ]
  },
  {
   "cell_type": "code",
   "execution_count": 158,
   "metadata": {},
   "outputs": [],
   "source": [
    "net = Linear()\n",
    "net.addLayers(2,4)\n",
    "net.addLayers(4,1)"
   ]
  },
  {
   "cell_type": "code",
   "execution_count": 159,
   "metadata": {
    "scrolled": true
   },
   "outputs": [
    {
     "name": "stdout",
     "output_type": "stream",
     "text": [
      "[{'input_neurons': 2, 'output_neurons': 4, 'hidden_layer': {'w1': array([[-0.17497655,  0.03426804]]), 'w2': array([[ 0.11530358, -0.0252436 ]]), 'w3': array([[0.09813208, 0.05142188]]), 'w4': array([[ 0.02211797, -0.10700433]])}}, {'input_neurons': 4, 'output_neurons': 1, 'hidden_layer': {'w1': array([[-0.17497655,  0.03426804,  0.11530358, -0.0252436 ]])}}]\n"
     ]
    }
   ],
   "source": [
    "print(net.nn)"
   ]
  },
  {
   "cell_type": "code",
   "execution_count": 161,
   "metadata": {},
   "outputs": [
    {
     "name": "stdout",
     "output_type": "stream",
     "text": [
      "prediction  [array([[0.49812222]])]\n",
      "actual  [2]\n",
      "loss  [[[1.12781843]]]\n",
      "prediction  [array([[0.50078239]])]\n",
      "actual  [4]\n",
      "loss  [[[6.12226194]]]\n",
      "prediction  [array([[0.50503726]])]\n",
      "actual  [5]\n",
      "loss  [[[10.102345]]]\n",
      "prediction  [array([[0.52123998]])]\n",
      "actual  [8]\n",
      "loss  [[[27.96592569]]]\n"
     ]
    }
   ],
   "source": [
    "data = np.array([[1.5, 2],[2.4,3.5],[4,3],[12,3]])\n",
    "yData = np.array([[2],[4],[5],[8]])\n",
    "xData = np.array([1.5, 2])\n",
    "\n",
    "for index,item in enumerate(data):\n",
    "    y_pred = net.forwardPropagate(item)\n",
    "    loss = net.MSE(y_pred,yData[index])\n",
    "    print('loss ',loss)"
   ]
  },
  {
   "cell_type": "code",
   "execution_count": null,
   "metadata": {},
   "outputs": [],
   "source": []
  }
 ],
 "metadata": {
  "kernelspec": {
   "display_name": "Python 3",
   "language": "python",
   "name": "python3"
  },
  "language_info": {
   "codemirror_mode": {
    "name": "ipython",
    "version": 3
   },
   "file_extension": ".py",
   "mimetype": "text/x-python",
   "name": "python",
   "nbconvert_exporter": "python",
   "pygments_lexer": "ipython3",
   "version": "3.8.3"
  }
 },
 "nbformat": 4,
 "nbformat_minor": 4
}
